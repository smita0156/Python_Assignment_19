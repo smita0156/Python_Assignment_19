{
 "cells": [
  {
   "cell_type": "code",
   "execution_count": null,
   "id": "e45f674d-3a18-496e-917b-66aaef5162cb",
   "metadata": {},
   "outputs": [],
   "source": [
    "1. Make a class called Thing with no contents and print it. Then, create an object called example\n",
    "from this class and also print it. Are the printed values the same or different?"
   ]
  },
  {
   "cell_type": "code",
   "execution_count": 1,
   "id": "5d3f808c-2b7b-4235-a0af-ef795f2245b2",
   "metadata": {},
   "outputs": [],
   "source": [
    "\n",
    "class Thing:\n",
    "    pass\n",
    "     "
   ]
  },
  {
   "cell_type": "code",
   "execution_count": 2,
   "id": "ab2a8adc-3886-4978-b695-e54d95354ebe",
   "metadata": {},
   "outputs": [
    {
     "name": "stdout",
     "output_type": "stream",
     "text": [
      "<class '__main__.Thing'>\n"
     ]
    }
   ],
   "source": [
    "\n",
    "print(Thing)\n",
    "     "
   ]
  },
  {
   "cell_type": "code",
   "execution_count": 3,
   "id": "db21d859-6f4d-4656-8bb1-c0491a61c8f3",
   "metadata": {},
   "outputs": [
    {
     "name": "stdout",
     "output_type": "stream",
     "text": [
      "<__main__.Thing object at 0x7fdcc022b6d0>\n"
     ]
    }
   ],
   "source": [
    "\n",
    "example = Thing()\n",
    "print(example)\n",
    "     "
   ]
  },
  {
   "cell_type": "code",
   "execution_count": null,
   "id": "ea872aa8-cfe5-44db-8fc7-27ea760a66ee",
   "metadata": {},
   "outputs": [],
   "source": [
    " # Printed values are not same, it prints, class and object details."
   ]
  },
  {
   "cell_type": "code",
   "execution_count": null,
   "id": "2d9b1c20-b732-4c3f-a4cf-7d3d06886d30",
   "metadata": {},
   "outputs": [],
   "source": [
    "2. Create a new class called Thing2 and add the value &#39;abc&#39; to the letters class attribute. Letters\n",
    "should be printed."
   ]
  },
  {
   "cell_type": "code",
   "execution_count": 4,
   "id": "163cb01b-f4c9-4e59-8ee8-5404e13c8b69",
   "metadata": {},
   "outputs": [
    {
     "data": {
      "text/plain": [
       "'abc'"
      ]
     },
     "execution_count": 4,
     "metadata": {},
     "output_type": "execute_result"
    }
   ],
   "source": [
    "\n",
    "class Thing2:\n",
    "    letters = 'abc'\n",
    "Thing2.letters\n",
    "     "
   ]
  },
  {
   "cell_type": "code",
   "execution_count": null,
   "id": "da5327ab-4f51-4f11-a0fa-6b84216486c2",
   "metadata": {},
   "outputs": [],
   "source": [
    "3. Make yet another class called, of course, Thing3. This time, assign the value &#39;xyz&#39; to an instance\n",
    "(object) attribute called letters. Print letters. Do you need to make an object from the class to do\n",
    "this?"
   ]
  },
  {
   "cell_type": "code",
   "execution_count": 5,
   "id": "ef6630b6-e801-44ad-a9bf-096d8a00ca1f",
   "metadata": {},
   "outputs": [
    {
     "name": "stdout",
     "output_type": "stream",
     "text": [
      "xyz\n"
     ]
    }
   ],
   "source": [
    "\n",
    "class Thing3:\n",
    "    def __init__(self,letter):\n",
    "        self.letter = letter\n",
    "    def letters(self):\n",
    "        print(self.letter)\n",
    "Thing3('xyz').letters()\n",
    "     "
   ]
  },
  {
   "cell_type": "code",
   "execution_count": null,
   "id": "f8eb6f9c-c4d7-4e3d-9520-a173021159e8",
   "metadata": {},
   "outputs": [],
   "source": [
    "4. Create an Element class with the instance attributes name, symbol, and number. Create a class\n",
    "object with the values &#39;Hydrogen,&#39; &#39;H,&#39; and 1."
   ]
  },
  {
   "cell_type": "code",
   "execution_count": null,
   "id": "39f5d941-0697-4222-ac81-63c24dcd98aa",
   "metadata": {},
   "outputs": [],
   "source": [
    "\n",
    "\n",
    "class Element:\n",
    "    def __init__(self,name,symbol,number):\n",
    "        self.name = name\n",
    "        self.symbol = symbol\n",
    "        self.number = number\n",
    "    def printThem(self):\n",
    "        print(self.name,self.symbol,self.number)\n",
    "     "
   ]
  },
  {
   "cell_type": "code",
   "execution_count": null,
   "id": "2f393ea7-103a-4fd7-b747-40b19e074e6f",
   "metadata": {},
   "outputs": [],
   "source": [
    "\n",
    "obj = Element('Hydrogen','H',1)\n",
    "obj.name\n",
    "     \n"
   ]
  },
  {
   "cell_type": "code",
   "execution_count": null,
   "id": "694f252a-e160-43c4-9a04-e6f85b79546a",
   "metadata": {},
   "outputs": [],
   "source": [
    "'Hydrogen'\n"
   ]
  },
  {
   "cell_type": "code",
   "execution_count": null,
   "id": "5969235a-d8a2-4544-895c-5d16260a1e96",
   "metadata": {},
   "outputs": [],
   "source": [
    "5. Make a dictionary with these keys and values: &#39;name&#39;: &#39;Hydrogen&#39;, &#39;symbol&#39;: &#39;H&#39;, &#39;number&#39;: 1. Then,\n",
    "create an object called hydrogen from class Element using this dictionary."
   ]
  },
  {
   "cell_type": "code",
   "execution_count": null,
   "id": "e266238c-cbe6-495b-a841-075ee509eb72",
   "metadata": {},
   "outputs": [],
   "source": [
    "\n",
    "dict = {'name':'Hydrogen', 'symbol':'H','number': 1}\n",
    "hydrogen = Element(**dict) # using dictionary unpacking **\n",
    "hydrogen.symbol\n",
    "     "
   ]
  },
  {
   "cell_type": "code",
   "execution_count": null,
   "id": "7bd96512-38f4-4bb0-ae5c-8a1ba7fadf46",
   "metadata": {},
   "outputs": [],
   "source": [
    "'H'\n"
   ]
  },
  {
   "cell_type": "code",
   "execution_count": null,
   "id": "310a78b2-85c9-4e1f-9d73-ce203ab06c5b",
   "metadata": {},
   "outputs": [],
   "source": [
    "6. For the Element class, define a method called dump() that prints the values of the object’s\n",
    "attributes (name, symbol, and number). Create the hydrogen object from this new definition and\n",
    "use dump() to print its attributes."
   ]
  },
  {
   "cell_type": "code",
   "execution_count": null,
   "id": "857d0330-7933-420b-8f31-c10a4ab81461",
   "metadata": {},
   "outputs": [],
   "source": [
    "\n",
    "class Element:\n",
    "    def __init__(self,name,symbol,number):\n",
    "        self.name = name\n",
    "        self.symbol = symbol\n",
    "        self.number = number\n",
    "    def dump(self):\n",
    "        print(self.name,self.symbol,self.number)\n",
    "     \n"
   ]
  },
  {
   "cell_type": "code",
   "execution_count": null,
   "id": "fa1808cf-cc8b-46f5-8b85-b081efc86e08",
   "metadata": {},
   "outputs": [],
   "source": [
    "\n",
    "hydrogen = Element('Hydrogen','H',1)\n",
    "hydrogen.dump()\n",
    "     "
   ]
  },
  {
   "cell_type": "code",
   "execution_count": null,
   "id": "86b9ffc6-055b-42c1-b550-65fd8ab11958",
   "metadata": {},
   "outputs": [],
   "source": [
    "Hydrogen H 1\n"
   ]
  },
  {
   "cell_type": "code",
   "execution_count": null,
   "id": "2a30aeb8-8da1-4864-b610-27b15b7b642a",
   "metadata": {},
   "outputs": [],
   "source": [
    "7. Call print(hydrogen). In the definition of Element, change the name of method dump to __str__,\n",
    "create a new hydrogen object, and call print(hydrogen) again."
   ]
  },
  {
   "cell_type": "code",
   "execution_count": null,
   "id": "6074438a-88ad-48e5-8583-22660e1c8ce7",
   "metadata": {},
   "outputs": [],
   "source": [
    "\n",
    "class Element:\n",
    "    def __init__(self,name,symbol,number):\n",
    "        self.name = name\n",
    "        self.symbol = symbol\n",
    "        self.number = number\n",
    "    def __str__(self):\n",
    "        return ('name=%s, symbol=%s, number=%s'% (self.name, self.symbol, self.number) )\n",
    "     "
   ]
  },
  {
   "cell_type": "code",
   "execution_count": null,
   "id": "360334a9-ebeb-4493-a52a-9ae12f5ae7ac",
   "metadata": {},
   "outputs": [],
   "source": [
    "\n",
    "hydrogen = Element('Hydrogen','H',1)\n",
    "print(hydrogen)\n",
    "     "
   ]
  },
  {
   "cell_type": "code",
   "execution_count": null,
   "id": "8ec754fd-b1de-4bd2-824f-d189602262ee",
   "metadata": {},
   "outputs": [],
   "source": [
    "name=Hydrogen, symbol=H, number=1\n"
   ]
  },
  {
   "cell_type": "code",
   "execution_count": null,
   "id": "7c80ed26-7732-4866-ad9b-a8d0ff875083",
   "metadata": {},
   "outputs": [],
   "source": [
    "8. Modify Element to make the attributes name, symbol, and number private. Define a getter\n",
    "property for each to return its value."
   ]
  },
  {
   "cell_type": "code",
   "execution_count": null,
   "id": "3606fe03-44e7-4961-aa08-bec7d54cb58c",
   "metadata": {},
   "outputs": [],
   "source": [
    "\n",
    "class Element(): \n",
    "    def __init__(self ,name,symbol,number):\n",
    "        self.__name = name\n",
    "        self.__symbol = symbol\n",
    "        self.__number = number\n",
    "    @property\n",
    "    def name(self):\n",
    "        return (self.__name)\n",
    "    @property\n",
    "    def symbol(self):\n",
    "        return (self.__symbol)\n",
    "    @property\n",
    "    def number(self):\n",
    "        return (self.__number)\n",
    "     "
   ]
  },
  {
   "cell_type": "code",
   "execution_count": null,
   "id": "caa22e81-8b88-4ad0-a4a4-be395e0b5a2f",
   "metadata": {},
   "outputs": [],
   "source": [
    "\n",
    "hydrogen = Element('Hydrogen','H',1)\n",
    "hydrogen.name\n",
    "     "
   ]
  },
  {
   "cell_type": "code",
   "execution_count": null,
   "id": "950c30e2-7023-4565-8567-41fca3feb5ec",
   "metadata": {},
   "outputs": [],
   "source": [
    "'Hydrogen'\n"
   ]
  },
  {
   "cell_type": "code",
   "execution_count": null,
   "id": "1fd14781-c88e-4ccf-8f6d-61d1d8b2a409",
   "metadata": {},
   "outputs": [],
   "source": [
    "9. Define three classes: Bear, Rabbit, and Octothorpe. For each, define only one method: eats(). This\n",
    "should return &#39;berries&#39; (Bear), &#39;clover&#39; (Rabbit), or &#39;campers&#39; (Octothorpe). Create one object from\n",
    "each and print what it eats."
   ]
  },
  {
   "cell_type": "code",
   "execution_count": null,
   "id": "d33d4016-2672-45f6-bede-92c98c8fed10",
   "metadata": {},
   "outputs": [],
   "source": [
    "\n",
    "\n",
    "class Bear:\n",
    "    def eats():\n",
    "        print('berries')\n",
    "\n",
    "class Rabbit:\n",
    "    def eats():\n",
    "        print('clover')\n",
    "\n",
    "class Octothorpe:\n",
    "    def eats():\n",
    "        print('campers')\n",
    "     "
   ]
  },
  {
   "cell_type": "code",
   "execution_count": null,
   "id": "60ac6be8-2945-49d8-9dc8-1e86d40221aa",
   "metadata": {},
   "outputs": [],
   "source": [
    "\n",
    "Bear.eats()\n",
    "\n",
    "     "
   ]
  },
  {
   "cell_type": "code",
   "execution_count": null,
   "id": "468702e2-7c2d-4b34-841a-6d82638b14f3",
   "metadata": {},
   "outputs": [],
   "source": [
    "berries"
   ]
  },
  {
   "cell_type": "code",
   "execution_count": null,
   "id": "4eef2deb-280d-4f26-9c0d-735d96d27388",
   "metadata": {},
   "outputs": [],
   "source": [
    "Rabbit.eats()\n"
   ]
  },
  {
   "cell_type": "code",
   "execution_count": null,
   "id": "4cd3a73c-5fc6-4d4d-983d-c4bf5b6c3f25",
   "metadata": {},
   "outputs": [],
   "source": [
    "clover"
   ]
  },
  {
   "cell_type": "code",
   "execution_count": null,
   "id": "7154ec19-7165-49e6-9a74-b063245f125c",
   "metadata": {},
   "outputs": [],
   "source": [
    "Octothorpe.eats()\n"
   ]
  },
  {
   "cell_type": "code",
   "execution_count": null,
   "id": "b90469ec-c392-4a62-9fa4-c44b8cf1bc54",
   "metadata": {},
   "outputs": [],
   "source": [
    "campers\n"
   ]
  },
  {
   "cell_type": "code",
   "execution_count": null,
   "id": "1cdf65c7-04df-4f2f-b2a6-8aa59b889a41",
   "metadata": {},
   "outputs": [],
   "source": [
    "10. Define these classes: Laser, Claw, and SmartPhone. Each has only one method: does(). This\n",
    "returns &#39;disintegrate&#39; (Laser), &#39;crush&#39; (Claw), or &#39;ring&#39; (SmartPhone). Then, define the class Robot that\n",
    "has one instance (object) of each of these. Define a does() method for the Robot that prints what its\n",
    "component objects do."
   ]
  },
  {
   "cell_type": "code",
   "execution_count": null,
   "id": "070aac33-d4c4-45fe-b0c5-9fa0d7566baf",
   "metadata": {},
   "outputs": [],
   "source": [
    "\n",
    "class Laser:\n",
    "    def does(self):\n",
    "        return('disitegrate')\n",
    "class Claw:\n",
    "    def does(self):\n",
    "        return('crush')\n",
    "class SmartPhone:\n",
    "    def does(self):\n",
    "        return('ring')\n",
    "        \n",
    "class Robot:\n",
    "    def __init__(self):\n",
    "        self.laser = Laser()\n",
    "        self.claw = Claw()\n",
    "        self.smartphone = SmartPhone()\n",
    "    def does(self):\n",
    "        return ('Laser is %s, Claw is %s, SmartPhone is %s' % (self.laser.does(),self.claw.does(),self.smartphone.does()))\n",
    "     \n"
   ]
  },
  {
   "cell_type": "code",
   "execution_count": null,
   "id": "0321049b-ff3e-4b2d-9577-6346dec09e61",
   "metadata": {},
   "outputs": [],
   "source": [
    "robo = Robot()\n"
   ]
  },
  {
   "cell_type": "code",
   "execution_count": null,
   "id": "466c3a4f-fb58-4199-81c1-8779ea420a05",
   "metadata": {},
   "outputs": [],
   "source": [
    "robo.does()\n"
   ]
  },
  {
   "cell_type": "code",
   "execution_count": null,
   "id": "839a8264-e593-445c-add8-4bb239ad3faf",
   "metadata": {},
   "outputs": [],
   "source": [
    "'Laser is disitegrate, Claw is crush, SmartPhone is ring'\n"
   ]
  }
 ],
 "metadata": {
  "kernelspec": {
   "display_name": "Python 3 (ipykernel)",
   "language": "python",
   "name": "python3"
  },
  "language_info": {
   "codemirror_mode": {
    "name": "ipython",
    "version": 3
   },
   "file_extension": ".py",
   "mimetype": "text/x-python",
   "name": "python",
   "nbconvert_exporter": "python",
   "pygments_lexer": "ipython3",
   "version": "3.10.6"
  }
 },
 "nbformat": 4,
 "nbformat_minor": 5
}
